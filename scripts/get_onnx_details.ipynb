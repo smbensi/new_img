{
 "cells": [
  {
   "cell_type": "code",
   "execution_count": 1,
   "metadata": {},
   "outputs": [],
   "source": [
    "import onnx\n",
    "\n",
    "model = onnx.load(\"/home/nvidia/dev/img_new/models_weights/reidentification/osnet_x1_0.onnx\")"
   ]
  },
  {
   "cell_type": "code",
   "execution_count": 2,
   "metadata": {},
   "outputs": [
    {
     "name": "stdout",
     "output_type": "stream",
     "text": [
      "Input Node: input\n",
      "  Type: tensor_type {\n",
      "  elem_type: 10\n",
      "  shape {\n",
      "    dim {\n",
      "      dim_param: \"input_dynamic_axes_1\"\n",
      "    }\n",
      "    dim {\n",
      "      dim_value: 3\n",
      "    }\n",
      "    dim {\n",
      "      dim_value: 256\n",
      "    }\n",
      "    dim {\n",
      "      dim_value: 128\n",
      "    }\n",
      "  }\n",
      "}\n",
      "\n",
      "  Shape: [dim_param: \"input_dynamic_axes_1\"\n",
      ", dim_value: 3\n",
      ", dim_value: 256\n",
      ", dim_value: 128\n",
      "]\n",
      "Output Node: embedding\n",
      "  Type: tensor_type {\n",
      "  elem_type: 10\n",
      "  shape {\n",
      "    dim {\n",
      "      dim_param: \"embedding_dynamic_axes_1\"\n",
      "    }\n",
      "    dim {\n",
      "      dim_value: 512\n",
      "    }\n",
      "  }\n",
      "}\n",
      "\n",
      "  Shape: [dim_param: \"embedding_dynamic_axes_1\"\n",
      ", dim_value: 512\n",
      "]\n"
     ]
    }
   ],
   "source": [
    "# Get the input and output nodes\n",
    "input_nodes = model.graph.input\n",
    "output_nodes = model.graph.output\n",
    "\n",
    "# Print the input and output nodes\n",
    "for node in input_nodes:\n",
    "    print(f\"Input Node: {node.name}\")\n",
    "    print(f\"  Type: {node.type}\")\n",
    "    print(f\"  Shape: {node.type.tensor_type.shape.dim}\")\n",
    "\n",
    "for node in output_nodes:\n",
    "    print(f\"Output Node: {node.name}\")\n",
    "    print(f\"  Type: {node.type}\")\n",
    "    print(f\"  Shape: {node.type.tensor_type.shape.dim}\")"
   ]
  },
  {
   "cell_type": "code",
   "execution_count": null,
   "metadata": {},
   "outputs": [],
   "source": []
  }
 ],
 "metadata": {
  "kernelspec": {
   "display_name": "ultralytics",
   "language": "python",
   "name": "python3"
  },
  "language_info": {
   "codemirror_mode": {
    "name": "ipython",
    "version": 3
   },
   "file_extension": ".py",
   "mimetype": "text/x-python",
   "name": "python",
   "nbconvert_exporter": "python",
   "pygments_lexer": "ipython3",
   "version": "3.8.16"
  },
  "orig_nbformat": 4
 },
 "nbformat": 4,
 "nbformat_minor": 2
}
