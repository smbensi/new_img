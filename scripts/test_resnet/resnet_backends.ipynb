{
 "cells": [
  {
   "cell_type": "code",
   "execution_count": 2,
   "metadata": {},
   "outputs": [],
   "source": [
    "import onnx\n",
    "import onnxruntime\n",
    "import numpy as np"
   ]
  },
  {
   "cell_type": "code",
   "execution_count": 4,
   "metadata": {},
   "outputs": [
    {
     "name": "stdout",
     "output_type": "stream",
     "text": [
      "Input Node: input\n",
      "  Type: tensor_type {\n",
      "  elem_type: 1\n",
      "  shape {\n",
      "    dim {\n",
      "      dim_param: \"input_dynamic_axes_1\"\n",
      "    }\n",
      "    dim {\n",
      "      dim_value: 3\n",
      "    }\n",
      "    dim {\n",
      "      dim_value: 160\n",
      "    }\n",
      "    dim {\n",
      "      dim_value: 160\n",
      "    }\n",
      "  }\n",
      "}\n",
      "\n",
      "  Shape: [dim_param: \"input_dynamic_axes_1\"\n",
      ", dim_value: 3\n",
      ", dim_value: 160\n",
      ", dim_value: 160\n",
      "]\n",
      "Output Node: embedding\n",
      "  Type: tensor_type {\n",
      "  elem_type: 1\n",
      "  shape {\n",
      "    dim {\n",
      "      dim_param: \"embedding_dynamic_axes_1\"\n",
      "    }\n",
      "    dim {\n",
      "      dim_param: \"Divembedding_dim_1\"\n",
      "    }\n",
      "  }\n",
      "}\n",
      "\n",
      "  Shape: [dim_param: \"embedding_dynamic_axes_1\"\n",
      ", dim_param: \"Divembedding_dim_1\"\n",
      "]\n"
     ]
    }
   ],
   "source": [
    "model_check = onnx.load(\"/home/nvidia/dev/img_new/resnet_v1.onnx\")\n",
    "\n",
    "# Get the input and output nodes\n",
    "input_nodes = model_check.graph.input\n",
    "output_nodes = model_check.graph.output\n",
    "\n",
    "# Print the input and output nodes\n",
    "for node in input_nodes:\n",
    "    print(f\"Input Node: {node.name}\")\n",
    "    print(f\"  Type: {node.type}\")\n",
    "    print(f\"  Shape: {node.type.tensor_type.shape.dim}\")\n",
    "\n",
    "for node in output_nodes:\n",
    "    print(f\"Output Node: {node.name}\")\n",
    "    print(f\"  Type: {node.type}\")\n",
    "    print(f\"  Shape: {node.type.tensor_type.shape.dim}\")"
   ]
  },
  {
   "cell_type": "code",
   "execution_count": 3,
   "metadata": {},
   "outputs": [],
   "source": [
    "model = onnxruntime.InferenceSession(\"/home/nvidia/dev/img_new/resnet_v1.onnx\", providers=['CPUExecutionProvider'])"
   ]
  },
  {
   "cell_type": "code",
   "execution_count": 5,
   "metadata": {},
   "outputs": [],
   "source": [
    "img = np.ones((1,3,160,160),dtype=np.float32)\n",
    "output = np.array(model.run(None, {\"input\": img})[0][0])\n"
   ]
  },
  {
   "cell_type": "code",
   "execution_count": 7,
   "metadata": {},
   "outputs": [
    {
     "data": {
      "text/plain": [
       "(512,)"
      ]
     },
     "execution_count": 7,
     "metadata": {},
     "output_type": "execute_result"
    }
   ],
   "source": [
    "output.shape"
   ]
  },
  {
   "cell_type": "code",
   "execution_count": 9,
   "metadata": {},
   "outputs": [],
   "source": [
    "from img_xtend.utils.triton import TritonRemoteModel \n",
    "triton_url = 'http://localhost:8000/resnet_onnx'\n",
    "model_triton = TritonRemoteModel(triton_url)\n"
   ]
  },
  {
   "cell_type": "code",
   "execution_count": 13,
   "metadata": {},
   "outputs": [
    {
     "data": {
      "text/plain": [
       "(1, 512)"
      ]
     },
     "execution_count": 13,
     "metadata": {},
     "output_type": "execute_result"
    }
   ],
   "source": [
    "output_triton = model_triton(img)\n",
    "output_triton[0].shape"
   ]
  }
 ],
 "metadata": {
  "kernelspec": {
   "display_name": "ultralytics",
   "language": "python",
   "name": "python3"
  },
  "language_info": {
   "codemirror_mode": {
    "name": "ipython",
    "version": 3
   },
   "file_extension": ".py",
   "mimetype": "text/x-python",
   "name": "python",
   "nbconvert_exporter": "python",
   "pygments_lexer": "ipython3",
   "version": "3.8.16"
  },
  "orig_nbformat": 4
 },
 "nbformat": 4,
 "nbformat_minor": 2
}
