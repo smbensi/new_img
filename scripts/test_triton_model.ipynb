{
 "cells": [
  {
   "cell_type": "code",
   "execution_count": 3,
   "metadata": {},
   "outputs": [],
   "source": [
    "from img_xtend.utils.triton import TritonRemoteModel \n",
    "\n",
    "\n",
    "url = \"http://localhost:8000/osnet_x1_0\"\n",
    "\n",
    "model = TritonRemoteModel(url)\n"
   ]
  },
  {
   "cell_type": "code",
   "execution_count": 4,
   "metadata": {},
   "outputs": [],
   "source": [
    "import onnx\n",
    "\n",
    "local_model = onnx.load(\"/home/nvidia/dev/img_new/models_weights/reidentification/osnet_x1_0.onnx\")\n"
   ]
  },
  {
   "cell_type": "code",
   "execution_count": 5,
   "metadata": {},
   "outputs": [],
   "source": [
    "import torch\n",
    "device = 'cpu'\n",
    "\n",
    "dummy_input = torch.randn(1, 3, 256, 128).to(device).half()\n"
   ]
  },
  {
   "cell_type": "code",
   "execution_count": 33,
   "metadata": {},
   "outputs": [
    {
     "name": "stdout",
     "output_type": "stream",
     "text": [
      "(1, 512)\n",
      "[0.     1.027  0.     0.     2.092  0.0921 1.668  0.     0.2192 0.662 ]\n",
      "output onnx\n",
      "<class 'numpy.ndarray'>\n",
      "(1, 512)\n",
      "[ 0.      0.      0.      0.      0.      0.      0.      0.1388  1.845\n",
      " 11.35  ]\n"
     ]
    },
    {
     "ename": "AssertionError",
     "evalue": "\nNot equal to tolerance rtol=0.1, atol=0.1\n\nMismatched elements: 376 / 512 (73.4%)\nMax absolute difference: 26.3\nMax relative difference: 8.52\n x: array([[0.0000e+00, 1.0273e+00, 0.0000e+00, 0.0000e+00, 2.0918e+00,\n        9.2102e-02, 1.6680e+00, 0.0000e+00, 2.1924e-01, 6.6211e-01,\n        2.5513e-01, 1.2031e+00, 0.0000e+00, 3.1006e-01, 0.0000e+00,...\n y: array([[0.0000e+00, 0.0000e+00, 0.0000e+00, 0.0000e+00, 0.0000e+00,\n        0.0000e+00, 0.0000e+00, 1.3879e-01, 1.8447e+00, 1.1352e+01,\n        0.0000e+00, 0.0000e+00, 1.3055e+01, 3.4609e+00, 2.0625e+00,...",
     "output_type": "error",
     "traceback": [
      "\u001b[0;31m---------------------------------------------------------------------------\u001b[0m",
      "\u001b[0;31mAssertionError\u001b[0m                            Traceback (most recent call last)",
      "Cell \u001b[0;32mIn[33], line 32\u001b[0m\n\u001b[1;32m     29\u001b[0m \u001b[39mprint\u001b[39m(ort_outs[\u001b[39m0\u001b[39m][\u001b[39m0\u001b[39m,:\u001b[39m10\u001b[39m])\n\u001b[1;32m     31\u001b[0m \u001b[39m# compare ONNX Runtime and PyTorch results\u001b[39;00m\n\u001b[0;32m---> 32\u001b[0m np\u001b[39m.\u001b[39;49mtesting\u001b[39m.\u001b[39;49massert_allclose(output_triton, ort_outs[\u001b[39m0\u001b[39;49m],rtol\u001b[39m=\u001b[39;49m\u001b[39m1e-1\u001b[39;49m, atol\u001b[39m=\u001b[39;49m\u001b[39m1e-01\u001b[39;49m)\n\u001b[1;32m     34\u001b[0m \u001b[39mprint\u001b[39m(\u001b[39m\"\u001b[39m\u001b[39mExported model has been tested with ONNXRuntime, and the result looks good!\u001b[39m\u001b[39m\"\u001b[39m)\n",
      "    \u001b[0;31m[... skipping hidden 1 frame]\u001b[0m\n",
      "File \u001b[0;32m~/.pyenv/versions/3.8.16/lib/python3.8/contextlib.py:75\u001b[0m, in \u001b[0;36mContextDecorator.__call__.<locals>.inner\u001b[0;34m(*args, **kwds)\u001b[0m\n\u001b[1;32m     72\u001b[0m \u001b[39m@wraps\u001b[39m(func)\n\u001b[1;32m     73\u001b[0m \u001b[39mdef\u001b[39;00m \u001b[39minner\u001b[39m(\u001b[39m*\u001b[39margs, \u001b[39m*\u001b[39m\u001b[39m*\u001b[39mkwds):\n\u001b[1;32m     74\u001b[0m     \u001b[39mwith\u001b[39;00m \u001b[39mself\u001b[39m\u001b[39m.\u001b[39m_recreate_cm():\n\u001b[0;32m---> 75\u001b[0m         \u001b[39mreturn\u001b[39;00m func(\u001b[39m*\u001b[39;49margs, \u001b[39m*\u001b[39;49m\u001b[39m*\u001b[39;49mkwds)\n",
      "File \u001b[0;32m~/.pyenv/versions/3.8.16/envs/ultralytics/lib/python3.8/site-packages/numpy/testing/_private/utils.py:862\u001b[0m, in \u001b[0;36massert_array_compare\u001b[0;34m(comparison, x, y, err_msg, verbose, header, precision, equal_nan, equal_inf, strict)\u001b[0m\n\u001b[1;32m    858\u001b[0m         err_msg \u001b[39m+\u001b[39m\u001b[39m=\u001b[39m \u001b[39m'\u001b[39m\u001b[39m\\n\u001b[39;00m\u001b[39m'\u001b[39m \u001b[39m+\u001b[39m \u001b[39m'\u001b[39m\u001b[39m\\n\u001b[39;00m\u001b[39m'\u001b[39m\u001b[39m.\u001b[39mjoin(remarks)\n\u001b[1;32m    859\u001b[0m         msg \u001b[39m=\u001b[39m build_err_msg([ox, oy], err_msg,\n\u001b[1;32m    860\u001b[0m                             verbose\u001b[39m=\u001b[39mverbose, header\u001b[39m=\u001b[39mheader,\n\u001b[1;32m    861\u001b[0m                             names\u001b[39m=\u001b[39m(\u001b[39m'\u001b[39m\u001b[39mx\u001b[39m\u001b[39m'\u001b[39m, \u001b[39m'\u001b[39m\u001b[39my\u001b[39m\u001b[39m'\u001b[39m), precision\u001b[39m=\u001b[39mprecision)\n\u001b[0;32m--> 862\u001b[0m         \u001b[39mraise\u001b[39;00m \u001b[39mAssertionError\u001b[39;00m(msg)\n\u001b[1;32m    863\u001b[0m \u001b[39mexcept\u001b[39;00m \u001b[39mValueError\u001b[39;00m:\n\u001b[1;32m    864\u001b[0m     \u001b[39mimport\u001b[39;00m \u001b[39mtraceback\u001b[39;00m\n",
      "\u001b[0;31mAssertionError\u001b[0m: \nNot equal to tolerance rtol=0.1, atol=0.1\n\nMismatched elements: 376 / 512 (73.4%)\nMax absolute difference: 26.3\nMax relative difference: 8.52\n x: array([[0.0000e+00, 1.0273e+00, 0.0000e+00, 0.0000e+00, 2.0918e+00,\n        9.2102e-02, 1.6680e+00, 0.0000e+00, 2.1924e-01, 6.6211e-01,\n        2.5513e-01, 1.2031e+00, 0.0000e+00, 3.1006e-01, 0.0000e+00,...\n y: array([[0.0000e+00, 0.0000e+00, 0.0000e+00, 0.0000e+00, 0.0000e+00,\n        0.0000e+00, 0.0000e+00, 1.3879e-01, 1.8447e+00, 1.1352e+01,\n        0.0000e+00, 0.0000e+00, 1.3055e+01, 3.4609e+00, 2.0625e+00,..."
     ]
    }
   ],
   "source": [
    "import onnxruntime\n",
    "import numpy as np\n",
    "\n",
    "device = 'cpu'\n",
    "\n",
    "onnx_path = '/home/nvidia/dev/img_new/models_weights/reidentification/osnet_x1_0.onnx'\n",
    "\n",
    "ort_session = onnxruntime.InferenceSession(onnx_path, providers=[\"CPUExecutionProvider\"])\n",
    "\n",
    "dummy_input = np.random.randn(1, 3, 256, 128).astype(np.float16)\n",
    "dummy_input = np.ones((1, 3, 256, 128)).astype(np.float16)\n",
    "# dummy_input = torch.randn(1, 3, 256, 128).to(device).half()\n",
    "\n",
    "\n",
    "def to_numpy(tensor):\n",
    "    return tensor.detach().cpu().numpy() if tensor.requires_grad else tensor.cpu().numpy()\n",
    "\n",
    "# compute ONNX Runtime output prediction\n",
    "# ort_inputs = {ort_session.get_inputs()[0].name: to_numpy(dummy_input)}\n",
    "ort_inputs = {ort_session.get_inputs()[0].name: dummy_input}\n",
    "ort_outs = ort_session.run(None, ort_inputs)\n",
    "\n",
    "output_triton = model(dummy_input)[0]\n",
    "print(output_triton.shape)\n",
    "print(output_triton[0,:10])\n",
    "print('output onnx')\n",
    "print(type(ort_outs[0]))\n",
    "print(ort_outs[0].shape)\n",
    "print(ort_outs[0][0,:10])\n",
    "\n",
    "# compare ONNX Runtime and PyTorch results\n",
    "np.testing.assert_allclose(output_triton, ort_outs[0],rtol=1e-1, atol=1e-01)\n",
    "\n",
    "print(\"Exported model has been tested with ONNXRuntime, and the result looks good!\")\n"
   ]
  },
  {
   "cell_type": "code",
   "execution_count": 30,
   "metadata": {},
   "outputs": [
    {
     "name": "stdout",
     "output_type": "stream",
     "text": [
      "567\n"
     ]
    }
   ],
   "source": [
    "path = \"/home/nvidia/dev/img_new/models_weights/reidentification/osnet_x1_0_msmt17.pt\"\n",
    "\n",
    "model_torch = torch.load(path)\n",
    "\n",
    "print(len(model_torch.keys()))"
   ]
  }
 ],
 "metadata": {
  "kernelspec": {
   "display_name": "ultralytics",
   "language": "python",
   "name": "python3"
  },
  "language_info": {
   "codemirror_mode": {
    "name": "ipython",
    "version": 3
   },
   "file_extension": ".py",
   "mimetype": "text/x-python",
   "name": "python",
   "nbconvert_exporter": "python",
   "pygments_lexer": "ipython3",
   "version": "3.8.16"
  },
  "orig_nbformat": 4
 },
 "nbformat": 4,
 "nbformat_minor": 2
}
