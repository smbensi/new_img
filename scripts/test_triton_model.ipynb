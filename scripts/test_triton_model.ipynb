{
 "cells": [
  {
   "cell_type": "code",
   "execution_count": 1,
   "metadata": {},
   "outputs": [],
   "source": [
    "from img_xtend.utils.triton import TritonRemoteModel \n",
    "\n",
    "\n",
    "url = \"http://localhost:8000/osnet_x1_0\"\n",
    "\n",
    "model = TritonRemoteModel(url)\n"
   ]
  },
  {
   "cell_type": "code",
   "execution_count": 2,
   "metadata": {},
   "outputs": [],
   "source": [
    "import onnx\n",
    "\n",
    "local_model = onnx.load(\"/home/nvidia/dev/img_new/models_weights/reidentification/osnet_x1_0.onnx\")\n"
   ]
  },
  {
   "cell_type": "code",
   "execution_count": 3,
   "metadata": {},
   "outputs": [],
   "source": [
    "import torch\n",
    "device = 'cpu'\n",
    "\n",
    "dummy_input = torch.randn(1, 3, 256, 128).to(device).half()\n"
   ]
  },
  {
   "cell_type": "code",
   "execution_count": 4,
   "metadata": {},
   "outputs": [
    {
     "ename": "TypeError",
     "evalue": "'NoneType' object is not subscriptable",
     "output_type": "error",
     "traceback": [
      "\u001b[0;31m---------------------------------------------------------------------------\u001b[0m",
      "\u001b[0;31mTypeError\u001b[0m                                 Traceback (most recent call last)",
      "Cell \u001b[0;32mIn[4], line 23\u001b[0m\n\u001b[1;32m     20\u001b[0m ort_inputs \u001b[39m=\u001b[39m {ort_session\u001b[39m.\u001b[39mget_inputs()[\u001b[39m0\u001b[39m]\u001b[39m.\u001b[39mname: dummy_input}\n\u001b[1;32m     21\u001b[0m ort_outs \u001b[39m=\u001b[39m ort_session\u001b[39m.\u001b[39mrun(\u001b[39mNone\u001b[39;00m, ort_inputs)\n\u001b[0;32m---> 23\u001b[0m output_triton \u001b[39m=\u001b[39m model(dummy_input)[\u001b[39m0\u001b[39;49m]\n\u001b[1;32m     24\u001b[0m \u001b[39mprint\u001b[39m(output_triton\u001b[39m.\u001b[39mshape)\n\u001b[1;32m     25\u001b[0m \u001b[39mprint\u001b[39m(output_triton[\u001b[39m0\u001b[39m,:\u001b[39m10\u001b[39m])\n",
      "\u001b[0;31mTypeError\u001b[0m: 'NoneType' object is not subscriptable"
     ]
    }
   ],
   "source": [
    "import onnxruntime\n",
    "import numpy as np\n",
    "\n",
    "device = 'cpu'\n",
    "\n",
    "onnx_path = '/home/nvidia/dev/img_new/models_weights/reidentification/osnet_x1_0.onnx'\n",
    "\n",
    "ort_session = onnxruntime.InferenceSession(onnx_path, providers=[\"CPUExecutionProvider\"])\n",
    "\n",
    "dummy_input = np.random.randn(1, 3, 256, 128).astype(np.float16)\n",
    "dummy_input = np.ones((1, 3, 256, 128)).astype(np.float16)\n",
    "# dummy_input = torch.randn(1, 3, 256, 128).to(device).half()\n",
    "\n",
    "\n",
    "def to_numpy(tensor):\n",
    "    return tensor.detach().cpu().numpy() if tensor.requires_grad else tensor.cpu().numpy()\n",
    "\n",
    "# compute ONNX Runtime output prediction\n",
    "# ort_inputs = {ort_session.get_inputs()[0].name: to_numpy(dummy_input)}\n",
    "ort_inputs = {ort_session.get_inputs()[0].name: dummy_input}\n",
    "ort_outs = ort_session.run(None, ort_inputs)\n",
    "\n",
    "output_triton = model(dummy_input)[0]\n",
    "print(output_triton.shape)\n",
    "print(output_triton[0,:10])\n",
    "print('output onnx')\n",
    "print(type(ort_outs[0]))\n",
    "print(ort_outs[0].shape)\n",
    "print(ort_outs[0][0,:10])\n",
    "\n",
    "# compare ONNX Runtime and PyTorch results\n",
    "np.testing.assert_allclose(output_triton, ort_outs[0],rtol=1e-1, atol=1e-01)\n",
    "\n",
    "print(\"Exported model has been tested with ONNXRuntime, and the result looks good!\")\n"
   ]
  },
  {
   "cell_type": "code",
   "execution_count": 5,
   "metadata": {},
   "outputs": [
    {
     "name": "stdout",
     "output_type": "stream",
     "text": [
      "567\n"
     ]
    }
   ],
   "source": [
    "path = \"/home/nvidia/dev/img_new/models_weights/reidentification/osnet_x1_0_msmt17.pt\"\n",
    "\n",
    "model_torch = torch.load(path)\n",
    "\n",
    "print(len(model_torch.keys()))"
   ]
  },
  {
   "cell_type": "code",
   "execution_count": 9,
   "metadata": {},
   "outputs": [
    {
     "ename": "TypeError",
     "evalue": "'collections.OrderedDict' object is not callable",
     "output_type": "error",
     "traceback": [
      "\u001b[0;31m---------------------------------------------------------------------------\u001b[0m",
      "\u001b[0;31mTypeError\u001b[0m                                 Traceback (most recent call last)",
      "Cell \u001b[0;32mIn[9], line 1\u001b[0m\n\u001b[0;32m----> 1\u001b[0m \u001b[39mprint\u001b[39m(model_torch(dummy_input))\n",
      "\u001b[0;31mTypeError\u001b[0m: 'collections.OrderedDict' object is not callable"
     ]
    }
   ],
   "source": [
    "print(model_torch(dummy_input))"
   ]
  }
 ],
 "metadata": {
  "kernelspec": {
   "display_name": "ultralytics",
   "language": "python",
   "name": "python3"
  },
  "language_info": {
   "codemirror_mode": {
    "name": "ipython",
    "version": 3
   },
   "file_extension": ".py",
   "mimetype": "text/x-python",
   "name": "python",
   "nbconvert_exporter": "python",
   "pygments_lexer": "ipython3",
   "version": "3.8.16"
  },
  "orig_nbformat": 4
 },
 "nbformat": 4,
 "nbformat_minor": 2
}
