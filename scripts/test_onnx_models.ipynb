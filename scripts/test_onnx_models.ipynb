{
 "cells": [
  {
   "cell_type": "code",
   "execution_count": 5,
   "metadata": {},
   "outputs": [],
   "source": [
    "import onnxruntime\n",
    "import numpy as np"
   ]
  },
  {
   "cell_type": "code",
   "execution_count": 4,
   "metadata": {},
   "outputs": [],
   "source": [
    "# Load the ONNX model\n",
    "model_wo_params = onnxruntime.InferenceSession(\"/home/nvidia/dev/img_new/resnet_v1.onnx\", \n",
    "                                               providers=['CPUExecutionProvider', 'AzureExecutionProvider'])\n",
    "model_with_params = onnxruntime.InferenceSession(\"/home/nvidia/dev/img_new/resnet_v1_with_params.onnx\",\n",
    "                                                 providers=['CPUExecutionProvider', 'AzureExecutionProvider'])"
   ]
  },
  {
   "cell_type": "code",
   "execution_count": 8,
   "metadata": {},
   "outputs": [],
   "source": [
    "img = np.ones((1,3,160,160),dtype=np.float32)\n"
   ]
  },
  {
   "cell_type": "code",
   "execution_count": 18,
   "metadata": {},
   "outputs": [],
   "source": [
    "# Run inference\n",
    "output_wo_params = np.array(model_wo_params.run(None, {\"input\": img})[0][0])\n",
    "output_with_params = np.array(model_with_params.run(None, {\"input\": img})[0][0])"
   ]
  },
  {
   "cell_type": "code",
   "execution_count": 21,
   "metadata": {},
   "outputs": [
    {
     "data": {
      "text/plain": [
       "1.0"
      ]
     },
     "execution_count": 21,
     "metadata": {},
     "output_type": "execute_result"
    }
   ],
   "source": [
    "np.linalg.norm(output_wo_params)"
   ]
  },
  {
   "cell_type": "code",
   "execution_count": 22,
   "metadata": {},
   "outputs": [
    {
     "data": {
      "text/plain": [
       "(1, 512)"
      ]
     },
     "execution_count": 22,
     "metadata": {},
     "output_type": "execute_result"
    }
   ],
   "source": [
    "out_orig_pt = np.load(\"/home/nvidia/dev/img_new/scripts/ones_orig.npy\")\n",
    "out_orig_pt.shape"
   ]
  },
  {
   "cell_type": "code",
   "execution_count": 24,
   "metadata": {},
   "outputs": [
    {
     "data": {
      "text/plain": [
       "3.0681604e-06"
      ]
     },
     "execution_count": 24,
     "metadata": {},
     "output_type": "execute_result"
    }
   ],
   "source": [
    "out_pt = out_orig_pt[0]\n",
    "np.linalg.norm(output_with_params - out_pt)"
   ]
  },
  {
   "cell_type": "code",
   "execution_count": 31,
   "metadata": {},
   "outputs": [
    {
     "ename": "AttributeError",
     "evalue": "'NoneType' object has no attribute 'get_input_names'",
     "output_type": "error",
     "traceback": [
      "\u001b[0;31m---------------------------------------------------------------------------\u001b[0m",
      "\u001b[0;31mAttributeError\u001b[0m                            Traceback (most recent call last)",
      "Cell \u001b[0;32mIn[31], line 12\u001b[0m\n\u001b[1;32m      9\u001b[0m checker \u001b[39m=\u001b[39m onnx\u001b[39m.\u001b[39mchecker\u001b[39m.\u001b[39mcheck_model(model)\n\u001b[1;32m     11\u001b[0m \u001b[39m# Print the model's input and output nodes\u001b[39;00m\n\u001b[0;32m---> 12\u001b[0m \u001b[39mprint\u001b[39m(checker\u001b[39m.\u001b[39;49mget_input_names())\n\u001b[1;32m     13\u001b[0m \u001b[39mprint\u001b[39m(checker\u001b[39m.\u001b[39mget_output_names())\n",
      "\u001b[0;31mAttributeError\u001b[0m: 'NoneType' object has no attribute 'get_input_names'"
     ]
    }
   ],
   "source": [
    "import onnx\n",
    "import onnx.checker\n",
    "\n",
    "\n",
    "# Load the ONNX model\n",
    "model = onnx.load(\"/home/nvidia/dev/img_new/resnet_v1_with_params.onnx\")\n",
    "\n",
    "# Check the model for errors\n",
    "checker = onnx.checker.check_model(model)\n",
    "\n",
    "# Print the model's input and output nodes\n",
    "print(checker.get_input_names())\n",
    "print(checker.get_output_names())"
   ]
  },
  {
   "cell_type": "code",
   "execution_count": 32,
   "metadata": {},
   "outputs": [
    {
     "ename": "AttributeError",
     "evalue": "module 'onnx.helper' has no attribute 'print_model'",
     "output_type": "error",
     "traceback": [
      "\u001b[0;31m---------------------------------------------------------------------------\u001b[0m",
      "\u001b[0;31mAttributeError\u001b[0m                            Traceback (most recent call last)",
      "Cell \u001b[0;32mIn[32], line 8\u001b[0m\n\u001b[1;32m      5\u001b[0m model \u001b[39m=\u001b[39m onnx\u001b[39m.\u001b[39mload(\u001b[39m\"\u001b[39m\u001b[39m/home/nvidia/dev/img_new/resnet_v1_with_params.onnx\u001b[39m\u001b[39m\"\u001b[39m)\n\u001b[1;32m      7\u001b[0m \u001b[39m# Print the model's graph\u001b[39;00m\n\u001b[0;32m----> 8\u001b[0m \u001b[39mprint\u001b[39m(onnx\u001b[39m.\u001b[39;49mhelper\u001b[39m.\u001b[39;49mprint_model(model))\n",
      "\u001b[0;31mAttributeError\u001b[0m: module 'onnx.helper' has no attribute 'print_model'"
     ]
    }
   ],
   "source": [
    "import onnx\n",
    "import onnx.helper\n",
    "\n",
    "# Load the ONNX model\n",
    "model = onnx.load(\"/home/nvidia/dev/img_new/resnet_v1_with_params.onnx\")\n",
    "\n",
    "# Print the model's graph\n",
    "print(onnx.helper.print_model(model))"
   ]
  },
  {
   "cell_type": "code",
   "execution_count": 2,
   "metadata": {},
   "outputs": [
    {
     "data": {
      "text/plain": [
       "onnx.onnx_ml_pb2.ModelProto"
      ]
     },
     "execution_count": 2,
     "metadata": {},
     "output_type": "execute_result"
    }
   ],
   "source": [
    "import onnx\n",
    "\"\"\"\n",
    "onnx.onnx_ml_pb2.ModelProto is a Python class that represents an \n",
    "ONNX model in Protocol Buffer (protobuf) format.\n",
    "\n",
    "When you load an ONNX model using the onnx.load() function, it returns an \n",
    "instance of the ModelProto class, which contains the model's graph, \n",
    "inputs, outputs, and other properties.\n",
    "\"\"\"\n",
    "model = onnx.load(\"/home/nvidia/dev/img_new/resnet_v1_with_params.onnx\")\n",
    "type(model)"
   ]
  },
  {
   "cell_type": "code",
   "execution_count": 3,
   "metadata": {},
   "outputs": [
    {
     "name": "stdout",
     "output_type": "stream",
     "text": [
      "Input Node: input\n",
      "  Type: tensor_type {\n",
      "  elem_type: 1\n",
      "  shape {\n",
      "    dim {\n",
      "      dim_param: \"input_dynamic_axes_1\"\n",
      "    }\n",
      "    dim {\n",
      "      dim_value: 3\n",
      "    }\n",
      "    dim {\n",
      "      dim_value: 160\n",
      "    }\n",
      "    dim {\n",
      "      dim_value: 160\n",
      "    }\n",
      "  }\n",
      "}\n",
      "\n",
      "  Shape: [dim_param: \"input_dynamic_axes_1\"\n",
      ", dim_value: 3\n",
      ", dim_value: 160\n",
      ", dim_value: 160\n",
      "]\n",
      "Output Node: embedding\n",
      "  Type: tensor_type {\n",
      "  elem_type: 1\n",
      "  shape {\n",
      "    dim {\n",
      "      dim_param: \"embedding_dynamic_axes_1\"\n",
      "    }\n",
      "    dim {\n",
      "      dim_param: \"Divembedding_dim_1\"\n",
      "    }\n",
      "  }\n",
      "}\n",
      "\n",
      "  Shape: [dim_param: \"embedding_dynamic_axes_1\"\n",
      ", dim_param: \"Divembedding_dim_1\"\n",
      "]\n"
     ]
    }
   ],
   "source": [
    "# Get the input and output nodes\n",
    "input_nodes = model.graph.input\n",
    "output_nodes = model.graph.output\n",
    "\n",
    "# Print the input and output nodes\n",
    "for node in input_nodes:\n",
    "    print(f\"Input Node: {node.name}\")\n",
    "    print(f\"  Type: {node.type}\")\n",
    "    print(f\"  Shape: {node.type.tensor_type.shape.dim}\")\n",
    "\n",
    "for node in output_nodes:\n",
    "    print(f\"Output Node: {node.name}\")\n",
    "    print(f\"  Type: {node.type}\")\n",
    "    print(f\"  Shape: {node.type.tensor_type.shape.dim}\")"
   ]
  }
 ],
 "metadata": {
  "kernelspec": {
   "display_name": "ultralytics",
   "language": "python",
   "name": "python3"
  },
  "language_info": {
   "codemirror_mode": {
    "name": "ipython",
    "version": 3
   },
   "file_extension": ".py",
   "mimetype": "text/x-python",
   "name": "python",
   "nbconvert_exporter": "python",
   "pygments_lexer": "ipython3",
   "version": "3.8.16"
  },
  "orig_nbformat": 4
 },
 "nbformat": 4,
 "nbformat_minor": 2
}
